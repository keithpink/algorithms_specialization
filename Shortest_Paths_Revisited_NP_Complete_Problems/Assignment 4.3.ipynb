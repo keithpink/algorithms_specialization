{
 "cells": [
  {
   "cell_type": "markdown",
   "id": "ae5bf979",
   "metadata": {},
   "source": [
    "# Assignment 4.3"
   ]
  },
  {
   "cell_type": "code",
   "execution_count": 16,
   "id": "25ff4b06",
   "metadata": {},
   "outputs": [],
   "source": [
    "import numpy as np\n",
    "graph = list()\n",
    "with open('nn.txt', 'r') as f:\n",
    "    for line in f.readlines()[1:1001]:\n",
    "        line = line.strip()\n",
    "        line = [float(x) for x in line.split(' ')]\n",
    "        graph.append(line[1:])\n",
    "\n",
    "graph = np.asarray(graph, float)\n",
    "# print(graph)"
   ]
  },
  {
   "cell_type": "code",
   "execution_count": 10,
   "id": "edeb3a5a",
   "metadata": {},
   "outputs": [],
   "source": [
    "def dist(i, j):\n",
    "    return (graph[i,0]-graph[j,0])**2 + (graph[i,1]-graph[j,1])**2\n",
    "\n",
    "\n",
    "def Nearest(s):\n",
    "    global total_cost\n",
    "    cost = float('inf')    \n",
    "\n",
    "    for i in range(s,0,-1):    # 遍历左边点\n",
    "        if i in cities:\n",
    "            if (graph[s,0]-graph[i,0])**2 >= cost: break\n",
    "            else: \n",
    "                if dist(i,s) <= cost:\n",
    "                    cost = dist(i,s)\n",
    "                    t = i\n",
    "    \n",
    "    for i in range(s,len(graph[:,0]),1):    # 遍历右边点\n",
    "        if i in cities:\n",
    "            if (graph[s,0]-graph[i,0])**2 >= cost: break\n",
    "            else: \n",
    "                if dist(i,s) < cost:\n",
    "                    cost = dist(i,s)\n",
    "                    t = i\n",
    "\n",
    "    total_cost += np.sqrt(cost)\n",
    "    return t"
   ]
  },
  {
   "cell_type": "code",
   "execution_count": 3,
   "id": "aa923503",
   "metadata": {},
   "outputs": [],
   "source": [
    "def HeuTsp(graph):\n",
    "    global total_cost\n",
    "    \n",
    "    total_cost = 0\n",
    "    start = 0\n",
    "    \n",
    "    while len(cities)>1:\n",
    "        cities.remove(start)\n",
    "        end = Nearest(start)\n",
    "        start = end\n",
    "        # print(cities)\n",
    "                \n",
    "    end = cities.pop()\n",
    "    total_cost += np.sqrt(dist(0,end))        # 补上最后一个点到起点距离   \n",
    "    return total_cost\n",
    "        "
   ]
  },
  {
   "cell_type": "code",
   "execution_count": 17,
   "id": "36c635bb",
   "metadata": {},
   "outputs": [
    {
     "name": "stdout",
     "output_type": "stream",
     "text": [
      "45954.49348339753\n",
      "running time is 0.05\n"
     ]
    }
   ],
   "source": [
    "import time\n",
    "cities = set(range(len(graph[:,0])))\n",
    "\n",
    "start = time.time()\n",
    "print(HeuTsp(graph))\n",
    "end = time.time()\n",
    "print('running time is {:.2f}'.format(end-start))"
   ]
  },
  {
   "cell_type": "code",
   "execution_count": null,
   "id": "790344e7",
   "metadata": {},
   "outputs": [],
   "source": []
  }
 ],
 "metadata": {
  "kernelspec": {
   "display_name": "Python 3 (ipykernel)",
   "language": "python",
   "name": "python3"
  },
  "language_info": {
   "codemirror_mode": {
    "name": "ipython",
    "version": 3
   },
   "file_extension": ".py",
   "mimetype": "text/x-python",
   "name": "python",
   "nbconvert_exporter": "python",
   "pygments_lexer": "ipython3",
   "version": "3.9.9"
  }
 },
 "nbformat": 4,
 "nbformat_minor": 5
}
